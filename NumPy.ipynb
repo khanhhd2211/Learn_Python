{
 "cells": [
  {
   "cell_type": "markdown",
   "id": "98d44077",
   "metadata": {},
   "source": [
    "# Numpy: Numeric computing library\n",
    "\n",
    "NumPy (Numerical Python) is one of the core packages for numerical computing in Python.\n",
    "\n",
    "Pandas, Matplotlib, Statmodels and many other Scientific libiaries rely on NumPy.\n",
    "\n",
    "NumPy major contributions are:\n",
    "- Efficient numeric computation with C primitives\n",
    "- Efficient collections with vectorized operations\n",
    "- An integrated and natural Linear Algebra API\n",
    "- A C API for connecting NumPy with libraries written in C, C++, or FORTRAN.\n",
    "\n",
    "Let's develop on efficiency. In Python, **everything is an object**, which means that even simple ints are also objects, with all the required machinery to make object work. We call them \"Boxed Ints\". In contrast, NumPy uses primitive numeric types (floats, ints) which makes storing and computation efficient."
   ]
  },
  {
   "cell_type": "code",
   "execution_count": 4,
   "id": "272e391e",
   "metadata": {},
   "outputs": [],
   "source": [
    "import numpy as np"
   ]
  },
  {
   "cell_type": "markdown",
   "id": "e451a88e",
   "metadata": {},
   "source": [
    "# Creating Numpy Arrays from Python Lists"
   ]
  },
  {
   "cell_type": "code",
   "execution_count": 2,
   "id": "f23b5a1f",
   "metadata": {},
   "outputs": [
    {
     "data": {
      "text/plain": [
       "array([1, 2, 3, 4])"
      ]
     },
     "execution_count": 2,
     "metadata": {},
     "output_type": "execute_result"
    }
   ],
   "source": [
    "np.array([1, 2, 3, 4])"
   ]
  },
  {
   "cell_type": "code",
   "execution_count": 3,
   "id": "5601845a",
   "metadata": {},
   "outputs": [
    {
     "data": {
      "text/plain": [
       "array([3.14, 4.  , 2.  , 3.  ])"
      ]
     },
     "execution_count": 3,
     "metadata": {},
     "output_type": "execute_result"
    }
   ],
   "source": [
    "np.array([3.14, 4, 2, 3]) # auto convert to float"
   ]
  },
  {
   "cell_type": "code",
   "execution_count": 7,
   "id": "0b0a8c58",
   "metadata": {},
   "outputs": [
    {
     "data": {
      "text/plain": [
       "array([1., 2., 3., 4.], dtype=float32)"
      ]
     },
     "execution_count": 7,
     "metadata": {},
     "output_type": "execute_result"
    }
   ],
   "source": [
    "np.array([1, 2, 3, 4], dtype='float32')"
   ]
  },
  {
   "cell_type": "code",
   "execution_count": 9,
   "id": "e42fb188",
   "metadata": {},
   "outputs": [
    {
     "data": {
      "text/plain": [
       "numpy.ndarray"
      ]
     },
     "execution_count": 9,
     "metadata": {},
     "output_type": "execute_result"
    }
   ],
   "source": [
    "a1 = np.array([1, 2, 3, 4])\n",
    "type(a1)"
   ]
  },
  {
   "cell_type": "code",
   "execution_count": 11,
   "id": "c02ae678",
   "metadata": {},
   "outputs": [
    {
     "data": {
      "text/plain": [
       "numpy.ndarray"
      ]
     },
     "execution_count": 11,
     "metadata": {},
     "output_type": "execute_result"
    }
   ],
   "source": [
    "a2 = np.array([[1, 2, 3],\n",
    "               [4, 5, 6]])\n",
    "type(a2)"
   ]
  },
  {
   "cell_type": "code",
   "execution_count": 12,
   "id": "64c053a6",
   "metadata": {},
   "outputs": [
    {
     "data": {
      "text/plain": [
       "(2, 3)"
      ]
     },
     "execution_count": 12,
     "metadata": {},
     "output_type": "execute_result"
    }
   ],
   "source": [
    "a2.shape"
   ]
  },
  {
   "cell_type": "code",
   "execution_count": 13,
   "id": "1c55a8fb",
   "metadata": {},
   "outputs": [
    {
     "data": {
      "text/plain": [
       "2"
      ]
     },
     "execution_count": 13,
     "metadata": {},
     "output_type": "execute_result"
    }
   ],
   "source": [
    "a2.ndim"
   ]
  },
  {
   "cell_type": "code",
   "execution_count": 14,
   "id": "e7704464",
   "metadata": {},
   "outputs": [
    {
     "data": {
      "text/plain": [
       "dtype('int64')"
      ]
     },
     "execution_count": 14,
     "metadata": {},
     "output_type": "execute_result"
    }
   ],
   "source": [
    "a2.dtype"
   ]
  },
  {
   "cell_type": "code",
   "execution_count": 15,
   "id": "6d2ad3c3",
   "metadata": {},
   "outputs": [
    {
     "data": {
      "text/plain": [
       "6"
      ]
     },
     "execution_count": 15,
     "metadata": {},
     "output_type": "execute_result"
    }
   ],
   "source": [
    "a2.size # tổng element trong array"
   ]
  },
  {
   "cell_type": "markdown",
   "id": "9cec6006",
   "metadata": {},
   "source": [
    "# Creating Numpy Arrays from Scratch"
   ]
  },
  {
   "cell_type": "markdown",
   "id": "d2991b91",
   "metadata": {},
   "source": [
    "`zeros`, `ones`, `full`, `arange`, `linspace`\n",
    "\n",
    "\n",
    "Ấn `shift` + `Tab` để xem docs"
   ]
  },
  {
   "cell_type": "code",
   "execution_count": 33,
   "id": "a0471443",
   "metadata": {},
   "outputs": [
    {
     "data": {
      "text/plain": [
       "array([[0, 0, 0, 0],\n",
       "       [0, 0, 0, 0]])"
      ]
     },
     "execution_count": 33,
     "metadata": {},
     "output_type": "execute_result"
    }
   ],
   "source": [
    "np.zeros(shape = [2, 4], dtype = int) # shape có 2 hàng 4 cột"
   ]
  },
  {
   "cell_type": "code",
   "execution_count": 34,
   "id": "42d15080",
   "metadata": {},
   "outputs": [
    {
     "data": {
      "text/plain": [
       "array([[1., 1., 1., 1.],\n",
       "       [1., 1., 1., 1.],\n",
       "       [1., 1., 1., 1.],\n",
       "       [1., 1., 1., 1.]])"
      ]
     },
     "execution_count": 34,
     "metadata": {},
     "output_type": "execute_result"
    }
   ],
   "source": [
    "np.ones(shape = [4, 4], dtype = float)"
   ]
  },
  {
   "cell_type": "code",
   "execution_count": 35,
   "id": "65519581",
   "metadata": {},
   "outputs": [
    {
     "data": {
      "text/plain": [
       "array([ 0,  2,  4,  6,  8, 10, 12, 14, 16, 18])"
      ]
     },
     "execution_count": 35,
     "metadata": {},
     "output_type": "execute_result"
    }
   ],
   "source": [
    "np.arange(start = 0, stop = 20, step = 2)"
   ]
  },
  {
   "cell_type": "code",
   "execution_count": 37,
   "id": "42636a7f",
   "metadata": {},
   "outputs": [
    {
     "data": {
      "text/plain": [
       "array([[6.9, 6.9, 6.9, 6.9, 6.9],\n",
       "       [6.9, 6.9, 6.9, 6.9, 6.9],\n",
       "       [6.9, 6.9, 6.9, 6.9, 6.9]])"
      ]
     },
     "execution_count": 37,
     "metadata": {},
     "output_type": "execute_result"
    }
   ],
   "source": [
    "np.full((3, 5), 6.9) # fill toàn là 6.9 với 3 hàng 5 cột"
   ]
  },
  {
   "cell_type": "code",
   "execution_count": 40,
   "id": "c2a65607",
   "metadata": {},
   "outputs": [
    {
     "data": {
      "text/plain": [
       "array([0.  , 0.25, 0.5 , 0.75, 1.  ])"
      ]
     },
     "execution_count": 40,
     "metadata": {},
     "output_type": "execute_result"
    }
   ],
   "source": [
    "np.linspace(0, 1, 5) # chia đều từ 0 đến 1 sao cho có 5 phần tử"
   ]
  },
  {
   "cell_type": "markdown",
   "id": "80b01d8c",
   "metadata": {},
   "source": [
    "# Random"
   ]
  },
  {
   "cell_type": "code",
   "execution_count": 49,
   "id": "6cbdd948",
   "metadata": {},
   "outputs": [
    {
     "data": {
      "text/plain": [
       "array([[0.5488135 , 0.71518937, 0.60276338, 0.54488318],\n",
       "       [0.4236548 , 0.64589411, 0.43758721, 0.891773  ],\n",
       "       [0.96366276, 0.38344152, 0.79172504, 0.52889492],\n",
       "       [0.56804456, 0.92559664, 0.07103606, 0.0871293 ]])"
      ]
     },
     "execution_count": 49,
     "metadata": {},
     "output_type": "execute_result"
    }
   ],
   "source": [
    "# Seed\n",
    "np.random.seed(0)\n",
    "np.random.random((4, 4))"
   ]
  },
  {
   "cell_type": "code",
   "execution_count": 51,
   "id": "18a3059d",
   "metadata": {},
   "outputs": [
    {
     "data": {
      "text/plain": [
       "array([[0.45615033, 0.56843395, 0.0187898 , 0.6176355 ],\n",
       "       [0.61209572, 0.616934  , 0.94374808, 0.6818203 ],\n",
       "       [0.3595079 , 0.43703195, 0.6976312 , 0.06022547],\n",
       "       [0.66676672, 0.67063787, 0.21038256, 0.1289263 ]])"
      ]
     },
     "execution_count": 51,
     "metadata": {},
     "output_type": "execute_result"
    }
   ],
   "source": [
    "np.random.random((4, 4))"
   ]
  },
  {
   "cell_type": "code",
   "execution_count": 60,
   "id": "fb988ec5",
   "metadata": {},
   "outputs": [
    {
     "data": {
      "text/plain": [
       "array([[0.43328806, 0.75610669, 0.39609828, 0.89603839],\n",
       "       [0.63892108, 0.89155444, 0.68005557, 0.44919774],\n",
       "       [0.97857093, 0.11620191, 0.7670237 , 0.41182014],\n",
       "       [0.67543908, 0.24979628, 0.31321833, 0.96541622]])"
      ]
     },
     "execution_count": 60,
     "metadata": {},
     "output_type": "execute_result"
    }
   ],
   "source": [
    "np.random.rand(4, 4) # tương tự cái trên, nhưng không cần cho list vào"
   ]
  },
  {
   "cell_type": "code",
   "execution_count": 53,
   "id": "90b3b220",
   "metadata": {},
   "outputs": [
    {
     "data": {
      "text/plain": [
       "array([[-1.42001794, -1.70627019,  1.9507754 ],\n",
       "       [-0.50965218, -0.4380743 , -1.25279536],\n",
       "       [ 0.77749036, -1.61389785, -0.21274028]])"
      ]
     },
     "execution_count": 53,
     "metadata": {},
     "output_type": "execute_result"
    }
   ],
   "source": [
    "np.random.normal(0, 1, (3, 3)) # mô phỏng phân phối chuẩn"
   ]
  },
  {
   "cell_type": "code",
   "execution_count": 58,
   "id": "d00d5aa8",
   "metadata": {},
   "outputs": [
    {
     "data": {
      "text/plain": [
       "array([[7, 2, 9, 2],\n",
       "       [3, 3, 2, 3],\n",
       "       [4, 1, 2, 9]])"
      ]
     },
     "execution_count": 58,
     "metadata": {},
     "output_type": "execute_result"
    }
   ],
   "source": [
    "np.random.randint(0, 10, (3, 4)) # không bao gồm 10 (max)"
   ]
  },
  {
   "cell_type": "markdown",
   "id": "cfbfaada",
   "metadata": {},
   "source": [
    "# Arrray Indexing & Slicing"
   ]
  },
  {
   "cell_type": "markdown",
   "id": "aa569fb3",
   "metadata": {},
   "source": [
    "## One-dimensional subarray"
   ]
  },
  {
   "cell_type": "code",
   "execution_count": 61,
   "id": "01177197",
   "metadata": {},
   "outputs": [],
   "source": [
    "x1 = np.random.randint(20, size = 6)"
   ]
  },
  {
   "cell_type": "code",
   "execution_count": 62,
   "id": "327fba83",
   "metadata": {},
   "outputs": [
    {
     "data": {
      "text/plain": [
       "array([16, 19,  1,  8,  0,  4])"
      ]
     },
     "execution_count": 62,
     "metadata": {},
     "output_type": "execute_result"
    }
   ],
   "source": [
    "x1"
   ]
  },
  {
   "cell_type": "code",
   "execution_count": 66,
   "id": "42118b5c",
   "metadata": {},
   "outputs": [
    {
     "data": {
      "text/plain": [
       "(0, 16, 4)"
      ]
     },
     "execution_count": 66,
     "metadata": {},
     "output_type": "execute_result"
    }
   ],
   "source": [
    "x1[4], x1[0], x1[-1]"
   ]
  },
  {
   "cell_type": "markdown",
   "id": "ebcfa707",
   "metadata": {},
   "source": [
    "## Multi-dimensional array"
   ]
  },
  {
   "cell_type": "code",
   "execution_count": 68,
   "id": "083b7963",
   "metadata": {},
   "outputs": [],
   "source": [
    "x2 = np.random.randint(10, size = (3,4))"
   ]
  },
  {
   "cell_type": "code",
   "execution_count": 69,
   "id": "d32a5f48",
   "metadata": {},
   "outputs": [
    {
     "data": {
      "text/plain": [
       "array([[9, 6, 5, 7],\n",
       "       [8, 8, 9, 2],\n",
       "       [8, 6, 6, 9]])"
      ]
     },
     "execution_count": 69,
     "metadata": {},
     "output_type": "execute_result"
    }
   ],
   "source": [
    "x2"
   ]
  },
  {
   "cell_type": "code",
   "execution_count": 72,
   "id": "f82aaeb0",
   "metadata": {},
   "outputs": [
    {
     "data": {
      "text/plain": [
       "9"
      ]
     },
     "execution_count": 72,
     "metadata": {},
     "output_type": "execute_result"
    }
   ],
   "source": [
    "x2[1, 2]"
   ]
  },
  {
   "cell_type": "code",
   "execution_count": 73,
   "id": "ef2ef17a",
   "metadata": {},
   "outputs": [],
   "source": [
    "x2[1, 2] = 6"
   ]
  },
  {
   "cell_type": "code",
   "execution_count": 74,
   "id": "345b091d",
   "metadata": {},
   "outputs": [
    {
     "data": {
      "text/plain": [
       "array([[9, 6, 5, 7],\n",
       "       [8, 8, 6, 2],\n",
       "       [8, 6, 6, 9]])"
      ]
     },
     "execution_count": 74,
     "metadata": {},
     "output_type": "execute_result"
    }
   ],
   "source": [
    "x2"
   ]
  },
  {
   "cell_type": "markdown",
   "id": "90e81d8c",
   "metadata": {},
   "source": [
    "## Slicing"
   ]
  },
  {
   "cell_type": "code",
   "execution_count": 75,
   "id": "b27e234d",
   "metadata": {},
   "outputs": [
    {
     "data": {
      "text/plain": [
       "array([16, 19,  1,  8,  0,  4])"
      ]
     },
     "execution_count": 75,
     "metadata": {},
     "output_type": "execute_result"
    }
   ],
   "source": [
    "x1"
   ]
  },
  {
   "cell_type": "code",
   "execution_count": 77,
   "id": "38d8091e",
   "metadata": {},
   "outputs": [
    {
     "data": {
      "text/plain": [
       "array([16, 19,  1])"
      ]
     },
     "execution_count": 77,
     "metadata": {},
     "output_type": "execute_result"
    }
   ],
   "source": [
    "x1[0:3]"
   ]
  },
  {
   "cell_type": "code",
   "execution_count": 78,
   "id": "c1a3ebce",
   "metadata": {},
   "outputs": [
    {
     "data": {
      "text/plain": [
       "array([1, 8])"
      ]
     },
     "execution_count": 78,
     "metadata": {},
     "output_type": "execute_result"
    }
   ],
   "source": [
    "x1[2:4]"
   ]
  },
  {
   "cell_type": "code",
   "execution_count": 79,
   "id": "409ba7d9",
   "metadata": {},
   "outputs": [
    {
     "data": {
      "text/plain": [
       "array([16,  1,  0])"
      ]
     },
     "execution_count": 79,
     "metadata": {},
     "output_type": "execute_result"
    }
   ],
   "source": [
    "# every other element, every 2 step\n",
    "x1[::2]"
   ]
  },
  {
   "cell_type": "code",
   "execution_count": 80,
   "id": "5c71c9ee",
   "metadata": {},
   "outputs": [
    {
     "data": {
      "text/plain": [
       "array([[9, 6, 5, 7],\n",
       "       [8, 8, 6, 2],\n",
       "       [8, 6, 6, 9]])"
      ]
     },
     "execution_count": 80,
     "metadata": {},
     "output_type": "execute_result"
    }
   ],
   "source": [
    "x2"
   ]
  },
  {
   "cell_type": "code",
   "execution_count": 82,
   "id": "688529a6",
   "metadata": {},
   "outputs": [
    {
     "data": {
      "text/plain": [
       "array([[9, 6, 5],\n",
       "       [8, 8, 6]])"
      ]
     },
     "execution_count": 82,
     "metadata": {},
     "output_type": "execute_result"
    }
   ],
   "source": [
    "x2[:2, :3] # 2 dòng đầu tiên và 3 cột đầu tiên"
   ]
  },
  {
   "cell_type": "code",
   "execution_count": 86,
   "id": "35a1addd",
   "metadata": {},
   "outputs": [
    {
     "data": {
      "text/plain": [
       "array([[9, 6],\n",
       "       [8, 8],\n",
       "       [8, 6]])"
      ]
     },
     "execution_count": 86,
     "metadata": {},
     "output_type": "execute_result"
    }
   ],
   "source": [
    "x2[:, :2] # lấy 2 cột đầu tiên"
   ]
  },
  {
   "cell_type": "markdown",
   "id": "cdce6f28",
   "metadata": {},
   "source": [
    "# Reshaping of Arrays & Transpose"
   ]
  },
  {
   "cell_type": "code",
   "execution_count": 88,
   "id": "b90840a5",
   "metadata": {},
   "outputs": [
    {
     "data": {
      "text/plain": [
       "(9,)"
      ]
     },
     "execution_count": 88,
     "metadata": {},
     "output_type": "execute_result"
    }
   ],
   "source": [
    "grid = np.arange(1, 10)\n",
    "grid.shape"
   ]
  },
  {
   "cell_type": "code",
   "execution_count": 89,
   "id": "ded6bfde",
   "metadata": {},
   "outputs": [
    {
     "data": {
      "text/plain": [
       "array([[1, 2, 3],\n",
       "       [4, 5, 6],\n",
       "       [7, 8, 9]])"
      ]
     },
     "execution_count": 89,
     "metadata": {},
     "output_type": "execute_result"
    }
   ],
   "source": [
    "grid.reshape((3, 3))"
   ]
  },
  {
   "cell_type": "code",
   "execution_count": 90,
   "id": "8c21797c",
   "metadata": {},
   "outputs": [],
   "source": [
    "x = np.array([1, 2, 3])"
   ]
  },
  {
   "cell_type": "code",
   "execution_count": 91,
   "id": "612d738a",
   "metadata": {},
   "outputs": [
    {
     "data": {
      "text/plain": [
       "(3,)"
      ]
     },
     "execution_count": 91,
     "metadata": {},
     "output_type": "execute_result"
    }
   ],
   "source": [
    "x.shape"
   ]
  },
  {
   "cell_type": "code",
   "execution_count": 94,
   "id": "2b6620a5",
   "metadata": {},
   "outputs": [
    {
     "data": {
      "text/plain": [
       "(1, 3)"
      ]
     },
     "execution_count": 94,
     "metadata": {},
     "output_type": "execute_result"
    }
   ],
   "source": [
    "x.reshape((1, 3)).shape"
   ]
  },
  {
   "cell_type": "code",
   "execution_count": 96,
   "id": "e8725c84",
   "metadata": {},
   "outputs": [],
   "source": [
    "x = np.array([[1., 2.], [3., 4.]])"
   ]
  },
  {
   "cell_type": "code",
   "execution_count": 99,
   "id": "bc1f83c1",
   "metadata": {},
   "outputs": [
    {
     "data": {
      "text/plain": [
       "array([[1., 2.],\n",
       "       [3., 4.]])"
      ]
     },
     "execution_count": 99,
     "metadata": {},
     "output_type": "execute_result"
    }
   ],
   "source": [
    "x # 2 hàng 2 cột"
   ]
  },
  {
   "cell_type": "code",
   "execution_count": 101,
   "id": "ea8c7a2e",
   "metadata": {},
   "outputs": [
    {
     "data": {
      "text/plain": [
       "array([[1., 3.],\n",
       "       [2., 4.]])"
      ]
     },
     "execution_count": 101,
     "metadata": {},
     "output_type": "execute_result"
    }
   ],
   "source": [
    "x.T # transpose"
   ]
  },
  {
   "cell_type": "markdown",
   "id": "8823e673",
   "metadata": {},
   "source": [
    "# Array Concatenation and Splitting"
   ]
  },
  {
   "cell_type": "code",
   "execution_count": 103,
   "id": "3ff6b160",
   "metadata": {},
   "outputs": [],
   "source": [
    "x = np.array([1, 2, 3])\n",
    "y = np.array([3, 2, 1])"
   ]
  },
  {
   "cell_type": "code",
   "execution_count": 107,
   "id": "fc0bc28f",
   "metadata": {},
   "outputs": [
    {
     "data": {
      "text/plain": [
       "array([1, 2, 3, 3, 2, 1])"
      ]
     },
     "execution_count": 107,
     "metadata": {},
     "output_type": "execute_result"
    }
   ],
   "source": [
    "np.concatenate((x, y), axis = 0) # axis = 0 (rows), axis = 1 (cols)"
   ]
  },
  {
   "cell_type": "code",
   "execution_count": 108,
   "id": "a1cca720",
   "metadata": {},
   "outputs": [
    {
     "data": {
      "text/plain": [
       "array([[1, 2, 3],\n",
       "       [4, 5, 6]])"
      ]
     },
     "execution_count": 108,
     "metadata": {},
     "output_type": "execute_result"
    }
   ],
   "source": [
    "grid = np.array([[1, 2, 3],\n",
    "                 [4, 5, 6]])\n",
    "grid"
   ]
  },
  {
   "cell_type": "code",
   "execution_count": 110,
   "id": "404c9d1c",
   "metadata": {},
   "outputs": [
    {
     "data": {
      "text/plain": [
       "array([[1, 2, 3, 1, 2, 3],\n",
       "       [4, 5, 6, 4, 5, 6]])"
      ]
     },
     "execution_count": 110,
     "metadata": {},
     "output_type": "execute_result"
    }
   ],
   "source": [
    "np.concatenate((grid, grid), axis = 1)"
   ]
  },
  {
   "cell_type": "code",
   "execution_count": 111,
   "id": "b73fbdef",
   "metadata": {},
   "outputs": [
    {
     "data": {
      "text/plain": [
       "array([[1, 2, 3],\n",
       "       [9, 8, 7],\n",
       "       [6, 5, 2]])"
      ]
     },
     "execution_count": 111,
     "metadata": {},
     "output_type": "execute_result"
    }
   ],
   "source": [
    "# vstack và hstack: rõ ràng hơn là nối hay chiều ngang hay dọc\n",
    "x = np.array([1, 2, 3])\n",
    "grid = np.array([[9, 8, 7],\n",
    "                 [6, 5, 2]])\n",
    "np.vstack((x, grid))"
   ]
  },
  {
   "cell_type": "code",
   "execution_count": 113,
   "id": "9076c6a5",
   "metadata": {},
   "outputs": [
    {
     "data": {
      "text/plain": [
       "array([[99,  9,  8,  7],\n",
       "       [99,  6,  5,  2]])"
      ]
     },
     "execution_count": 113,
     "metadata": {},
     "output_type": "execute_result"
    }
   ],
   "source": [
    "y = np.array([[99], [99]])\n",
    "np.hstack((y, grid))"
   ]
  },
  {
   "cell_type": "markdown",
   "id": "01af57cb",
   "metadata": {},
   "source": [
    "## Splitting"
   ]
  },
  {
   "cell_type": "code",
   "execution_count": 114,
   "id": "180c7f0d",
   "metadata": {},
   "outputs": [],
   "source": [
    "x = np.array([1, 2, 3, 99,69,3,2,1])"
   ]
  },
  {
   "cell_type": "code",
   "execution_count": 121,
   "id": "4027f4a5",
   "metadata": {},
   "outputs": [],
   "source": [
    "x1, x2, x3 = np.split(x, [3, 5]) # cắt tại vị trí 3 và 5"
   ]
  },
  {
   "cell_type": "code",
   "execution_count": 122,
   "id": "cc7e1db4",
   "metadata": {},
   "outputs": [
    {
     "data": {
      "text/plain": [
       "array([1, 2, 3])"
      ]
     },
     "execution_count": 122,
     "metadata": {},
     "output_type": "execute_result"
    }
   ],
   "source": [
    "x1"
   ]
  },
  {
   "cell_type": "code",
   "execution_count": 123,
   "id": "f75c8e72",
   "metadata": {},
   "outputs": [
    {
     "data": {
      "text/plain": [
       "array([99, 69])"
      ]
     },
     "execution_count": 123,
     "metadata": {},
     "output_type": "execute_result"
    }
   ],
   "source": [
    "x2"
   ]
  },
  {
   "cell_type": "code",
   "execution_count": 124,
   "id": "c6aea2f7",
   "metadata": {},
   "outputs": [
    {
     "data": {
      "text/plain": [
       "array([3, 2, 1])"
      ]
     },
     "execution_count": 124,
     "metadata": {},
     "output_type": "execute_result"
    }
   ],
   "source": [
    "x3"
   ]
  },
  {
   "cell_type": "markdown",
   "id": "6ddbc519",
   "metadata": {},
   "source": [
    "# Broadcasting and Vectorized operations"
   ]
  },
  {
   "cell_type": "markdown",
   "id": "077844d3",
   "metadata": {},
   "source": [
    "Broadcasting is simply a set of rules for applying binary funcs (e.g., addition, subtraction, multiplication, etc.) on arrays of different sizes."
   ]
  },
  {
   "cell_type": "code",
   "execution_count": 5,
   "id": "cc200a83",
   "metadata": {},
   "outputs": [],
   "source": [
    "a = np.arange(3)"
   ]
  },
  {
   "cell_type": "code",
   "execution_count": 6,
   "id": "279717cd",
   "metadata": {},
   "outputs": [
    {
     "data": {
      "text/plain": [
       "array([0, 1, 2])"
      ]
     },
     "execution_count": 6,
     "metadata": {},
     "output_type": "execute_result"
    }
   ],
   "source": [
    "a"
   ]
  },
  {
   "cell_type": "code",
   "execution_count": 7,
   "id": "0ca62c93",
   "metadata": {},
   "outputs": [
    {
     "data": {
      "text/plain": [
       "array([5, 6, 7])"
      ]
     },
     "execution_count": 7,
     "metadata": {},
     "output_type": "execute_result"
    }
   ],
   "source": [
    "a + 5 # broadcasting"
   ]
  },
  {
   "cell_type": "code",
   "execution_count": 129,
   "id": "cc993536",
   "metadata": {},
   "outputs": [],
   "source": [
    "b = np.ones((3, 3))"
   ]
  },
  {
   "cell_type": "code",
   "execution_count": 131,
   "id": "f92a38d4",
   "metadata": {},
   "outputs": [
    {
     "data": {
      "text/plain": [
       "((3,), (3, 3))"
      ]
     },
     "execution_count": 131,
     "metadata": {},
     "output_type": "execute_result"
    }
   ],
   "source": [
    "a.shape, b.shape"
   ]
  },
  {
   "cell_type": "code",
   "execution_count": 132,
   "id": "db24ebe8",
   "metadata": {},
   "outputs": [
    {
     "data": {
      "text/plain": [
       "array([[1., 2., 3.],\n",
       "       [1., 2., 3.],\n",
       "       [1., 2., 3.]])"
      ]
     },
     "execution_count": 132,
     "metadata": {},
     "output_type": "execute_result"
    }
   ],
   "source": [
    "a + b"
   ]
  },
  {
   "cell_type": "code",
   "execution_count": 134,
   "id": "4335a5a4",
   "metadata": {},
   "outputs": [
    {
     "data": {
      "text/plain": [
       "array([[0., 1., 2.],\n",
       "       [0., 1., 2.],\n",
       "       [0., 1., 2.]])"
      ]
     },
     "execution_count": 134,
     "metadata": {},
     "output_type": "execute_result"
    }
   ],
   "source": [
    "a * b"
   ]
  },
  {
   "cell_type": "code",
   "execution_count": 135,
   "id": "43f6b084",
   "metadata": {},
   "outputs": [],
   "source": [
    "c = np.arange(3).reshape((3, 1))"
   ]
  },
  {
   "cell_type": "code",
   "execution_count": 136,
   "id": "6d1b66fe",
   "metadata": {},
   "outputs": [
    {
     "data": {
      "text/plain": [
       "array([[0],\n",
       "       [1],\n",
       "       [2]])"
      ]
     },
     "execution_count": 136,
     "metadata": {},
     "output_type": "execute_result"
    }
   ],
   "source": [
    "c"
   ]
  },
  {
   "cell_type": "code",
   "execution_count": 137,
   "id": "809ac3b1",
   "metadata": {},
   "outputs": [
    {
     "data": {
      "text/plain": [
       "array([[0, 1, 2],\n",
       "       [1, 2, 3],\n",
       "       [2, 3, 4]])"
      ]
     },
     "execution_count": 137,
     "metadata": {},
     "output_type": "execute_result"
    }
   ],
   "source": [
    "a + c"
   ]
  },
  {
   "cell_type": "markdown",
   "id": "64f97867",
   "metadata": {},
   "source": [
    "# Manipulating & Comparing Arrays"
   ]
  },
  {
   "cell_type": "markdown",
   "id": "8d5ecaf6",
   "metadata": {},
   "source": [
    "### Aggregation\n",
    "Aggregation = performing the same operation on a number of things"
   ]
  },
  {
   "cell_type": "code",
   "execution_count": 139,
   "id": "09fad47e",
   "metadata": {},
   "outputs": [],
   "source": [
    "list_number = [1, 2, 3]"
   ]
  },
  {
   "cell_type": "code",
   "execution_count": 140,
   "id": "fcecedd6",
   "metadata": {},
   "outputs": [],
   "source": [
    "ll = np.array(list_number)"
   ]
  },
  {
   "cell_type": "code",
   "execution_count": 141,
   "id": "c8fe8558",
   "metadata": {},
   "outputs": [
    {
     "data": {
      "text/plain": [
       "array([1, 2, 3])"
      ]
     },
     "execution_count": 141,
     "metadata": {},
     "output_type": "execute_result"
    }
   ],
   "source": [
    "ll"
   ]
  },
  {
   "cell_type": "code",
   "execution_count": 143,
   "id": "43207e6a",
   "metadata": {},
   "outputs": [
    {
     "data": {
      "text/plain": [
       "6"
      ]
     },
     "execution_count": 143,
     "metadata": {},
     "output_type": "execute_result"
    }
   ],
   "source": [
    "sum(ll) # Python sum()"
   ]
  },
  {
   "cell_type": "code",
   "execution_count": 147,
   "id": "c1dcde7a",
   "metadata": {},
   "outputs": [
    {
     "data": {
      "text/plain": [
       "6"
      ]
     },
     "execution_count": 147,
     "metadata": {},
     "output_type": "execute_result"
    }
   ],
   "source": [
    "np.sum(ll) # Numpy sum() # tính toán nhanh hơn"
   ]
  },
  {
   "cell_type": "code",
   "execution_count": 148,
   "id": "8556cc14",
   "metadata": {},
   "outputs": [
    {
     "data": {
      "text/plain": [
       "(10000,)"
      ]
     },
     "execution_count": 148,
     "metadata": {},
     "output_type": "execute_result"
    }
   ],
   "source": [
    "# Create a massive Numpy array\n",
    "\n",
    "massive_array = np.random.random(10000)\n",
    "massive_array.shape"
   ]
  },
  {
   "cell_type": "code",
   "execution_count": 149,
   "id": "d28f2415",
   "metadata": {},
   "outputs": [
    {
     "name": "stdout",
     "output_type": "stream",
     "text": [
      "391 µs ± 12.9 µs per loop (mean ± std. dev. of 7 runs, 1,000 loops each)\n",
      "3.25 µs ± 114 ns per loop (mean ± std. dev. of 7 runs, 100,000 loops each)\n"
     ]
    }
   ],
   "source": [
    "%timeit sum(massive_array) # Python built-in function sum()\n",
    "%timeit np.sum(massive_array) # Numpy sum()"
   ]
  },
  {
   "cell_type": "markdown",
   "id": "10f617f4",
   "metadata": {},
   "source": [
    "- Built-in `sum()` mất 391 micro second\n",
    "- `np.sum()` mất 3.25 micro second\n",
    "\n",
    "<mark> **Phải dùng numpy khi làm việc với mảng đa chiều** </mark>"
   ]
  },
  {
   "cell_type": "code",
   "execution_count": 150,
   "id": "6e6025f3",
   "metadata": {},
   "outputs": [
    {
     "data": {
      "text/plain": [
       "0.5005009622044586"
      ]
     },
     "execution_count": 150,
     "metadata": {},
     "output_type": "execute_result"
    }
   ],
   "source": [
    "np.mean(massive_array)"
   ]
  },
  {
   "cell_type": "code",
   "execution_count": 151,
   "id": "1c7fe626",
   "metadata": {},
   "outputs": [
    {
     "data": {
      "text/plain": [
       "0.9999709462497284"
      ]
     },
     "execution_count": 151,
     "metadata": {},
     "output_type": "execute_result"
    }
   ],
   "source": [
    "np.max(massive_array)"
   ]
  },
  {
   "cell_type": "code",
   "execution_count": 152,
   "id": "9c001c0a",
   "metadata": {},
   "outputs": [
    {
     "data": {
      "text/plain": [
       "2.0027530115096503e-05"
      ]
     },
     "execution_count": 152,
     "metadata": {},
     "output_type": "execute_result"
    }
   ],
   "source": [
    "np.min(massive_array)"
   ]
  },
  {
   "cell_type": "code",
   "execution_count": 156,
   "id": "f9cf75fb",
   "metadata": {},
   "outputs": [],
   "source": [
    "dog_height = [600, 470, 170, 430, 300]\n",
    "dog_height = np.array(dog_height)"
   ]
  },
  {
   "cell_type": "code",
   "execution_count": 157,
   "id": "8a4f1d7c",
   "metadata": {},
   "outputs": [
    {
     "data": {
      "text/plain": [
       "147.32277488562318"
      ]
     },
     "execution_count": 157,
     "metadata": {},
     "output_type": "execute_result"
    }
   ],
   "source": [
    "np.std(dog_height)"
   ]
  },
  {
   "cell_type": "code",
   "execution_count": 158,
   "id": "980bf35c",
   "metadata": {},
   "outputs": [
    {
     "data": {
      "text/plain": [
       "147.32277488562318"
      ]
     },
     "execution_count": 158,
     "metadata": {},
     "output_type": "execute_result"
    }
   ],
   "source": [
    "np.sqrt(np.var(dog_height))"
   ]
  },
  {
   "cell_type": "markdown",
   "id": "01099a19",
   "metadata": {},
   "source": [
    "# Sorting Arrays\n",
    "`np.sort` uses an quicksort algorithm"
   ]
  },
  {
   "cell_type": "code",
   "execution_count": 159,
   "id": "b51ebf40",
   "metadata": {},
   "outputs": [
    {
     "data": {
      "text/plain": [
       "array([1, 2, 3, 4, 5])"
      ]
     },
     "execution_count": 159,
     "metadata": {},
     "output_type": "execute_result"
    }
   ],
   "source": [
    "x = np.array([2, 1, 4, 3, 5])\n",
    "np.sort(x)"
   ]
  },
  {
   "cell_type": "code",
   "execution_count": 163,
   "id": "c0378f81",
   "metadata": {},
   "outputs": [
    {
     "data": {
      "text/plain": [
       "array([1, 0, 3, 2, 4])"
      ]
     },
     "execution_count": 163,
     "metadata": {},
     "output_type": "execute_result"
    }
   ],
   "source": [
    "np.argsort(x)"
   ]
  },
  {
   "cell_type": "markdown",
   "id": "8044b1d8",
   "metadata": {},
   "source": [
    "## Sorting along rows or columns\n",
    "NumPy's sorting algorithms is the ability to sort along specific rows or columns of a multidimensional array using the axis argument"
   ]
  },
  {
   "cell_type": "code",
   "execution_count": 166,
   "id": "ea01261a",
   "metadata": {},
   "outputs": [],
   "source": [
    "np.random.seed(42)\n",
    "\n",
    "MatA = np.random.randint(0, 10, size=(4, 6))"
   ]
  },
  {
   "cell_type": "code",
   "execution_count": 167,
   "id": "431baa86",
   "metadata": {},
   "outputs": [
    {
     "data": {
      "text/plain": [
       "array([[6, 3, 7, 4, 6, 9],\n",
       "       [2, 6, 7, 4, 3, 7],\n",
       "       [7, 2, 5, 4, 1, 7],\n",
       "       [5, 1, 4, 0, 9, 5]])"
      ]
     },
     "execution_count": 167,
     "metadata": {},
     "output_type": "execute_result"
    }
   ],
   "source": [
    "MatA"
   ]
  },
  {
   "cell_type": "code",
   "execution_count": 169,
   "id": "a2efabac",
   "metadata": {},
   "outputs": [
    {
     "data": {
      "text/plain": [
       "array([[2, 1, 4, 0, 1, 5],\n",
       "       [5, 2, 5, 4, 3, 7],\n",
       "       [6, 3, 7, 4, 6, 7],\n",
       "       [7, 6, 7, 4, 9, 9]])"
      ]
     },
     "execution_count": 169,
     "metadata": {},
     "output_type": "execute_result"
    }
   ],
   "source": [
    "np.sort(MatA, axis = 0) # sắp xếp theo cột"
   ]
  },
  {
   "cell_type": "code",
   "execution_count": 170,
   "id": "85d0853a",
   "metadata": {},
   "outputs": [
    {
     "data": {
      "text/plain": [
       "array([[3, 4, 6, 6, 7, 9],\n",
       "       [2, 3, 4, 6, 7, 7],\n",
       "       [1, 2, 4, 5, 7, 7],\n",
       "       [0, 1, 4, 5, 5, 9]])"
      ]
     },
     "execution_count": 170,
     "metadata": {},
     "output_type": "execute_result"
    }
   ],
   "source": [
    "np.sort(MatA, axis = 1) # sắp xếp theo hàng"
   ]
  },
  {
   "cell_type": "markdown",
   "id": "f41ff116",
   "metadata": {},
   "source": [
    "# Linear Algebra"
   ]
  },
  {
   "cell_type": "code",
   "execution_count": 173,
   "id": "895a95d8",
   "metadata": {},
   "outputs": [],
   "source": [
    "A = np.array([[1, 2, 3],\n",
    "              [4, 5, 6],\n",
    "              [7, 8, 9]])"
   ]
  },
  {
   "cell_type": "code",
   "execution_count": 174,
   "id": "fa2cb15f",
   "metadata": {},
   "outputs": [],
   "source": [
    "B = np.array([[6, 5],\n",
    "              [4, 3],\n",
    "              [2, 1]])"
   ]
  },
  {
   "cell_type": "code",
   "execution_count": 176,
   "id": "d5c2c6ec",
   "metadata": {},
   "outputs": [
    {
     "data": {
      "text/plain": [
       "array([[20, 14],\n",
       "       [56, 41],\n",
       "       [92, 68]])"
      ]
     },
     "execution_count": 176,
     "metadata": {},
     "output_type": "execute_result"
    }
   ],
   "source": [
    "A.dot(B) # Nhân ma trận"
   ]
  },
  {
   "cell_type": "code",
   "execution_count": 178,
   "id": "59711932",
   "metadata": {},
   "outputs": [
    {
     "data": {
      "text/plain": [
       "array([[20, 14],\n",
       "       [56, 41],\n",
       "       [92, 68]])"
      ]
     },
     "execution_count": 178,
     "metadata": {},
     "output_type": "execute_result"
    }
   ],
   "source": [
    "A @ B # Nhân ma trận (cách 2)"
   ]
  },
  {
   "cell_type": "code",
   "execution_count": 179,
   "id": "1048d44a",
   "metadata": {},
   "outputs": [
    {
     "data": {
      "text/plain": [
       "array([[36, 48, 60],\n",
       "       [24, 33, 42]])"
      ]
     },
     "execution_count": 179,
     "metadata": {},
     "output_type": "execute_result"
    }
   ],
   "source": [
    "B.T @ A"
   ]
  },
  {
   "cell_type": "markdown",
   "id": "63a9d7cf",
   "metadata": {},
   "source": [
    "## Dot Product Example"
   ]
  },
  {
   "cell_type": "code",
   "execution_count": 180,
   "id": "aa79d0cb",
   "metadata": {},
   "outputs": [],
   "source": [
    "# Number of jars sold\n",
    "np.random.seed(0)\n",
    "\n",
    "sales_amounts = np.random.randint(20, size=(5, 3))"
   ]
  },
  {
   "cell_type": "code",
   "execution_count": 181,
   "id": "aae9bd5e",
   "metadata": {},
   "outputs": [
    {
     "data": {
      "text/plain": [
       "array([[12, 15,  0],\n",
       "       [ 3,  3,  7],\n",
       "       [ 9, 19, 18],\n",
       "       [ 4,  6, 12],\n",
       "       [ 1,  6,  7]])"
      ]
     },
     "execution_count": 181,
     "metadata": {},
     "output_type": "execute_result"
    }
   ],
   "source": [
    "sales_amounts"
   ]
  },
  {
   "cell_type": "code",
   "execution_count": 184,
   "id": "756b9c07",
   "metadata": {},
   "outputs": [],
   "source": [
    "# Create weeklu_sales DataFrame\n",
    "import pandas as pd\n",
    "weekly_sales = pd.DataFrame(sales_amounts, index = [\"Mon\", \"Tues\", \"Wed\", \"Thurs\", \"Fri\"],\n",
    "                           columns = [\"Almond Butter\", \"Peanut Butter\", \"Cashew Butter\"])"
   ]
  },
  {
   "cell_type": "code",
   "execution_count": 185,
   "id": "e1e89505",
   "metadata": {},
   "outputs": [
    {
     "data": {
      "text/html": [
       "<div>\n",
       "<style scoped>\n",
       "    .dataframe tbody tr th:only-of-type {\n",
       "        vertical-align: middle;\n",
       "    }\n",
       "\n",
       "    .dataframe tbody tr th {\n",
       "        vertical-align: top;\n",
       "    }\n",
       "\n",
       "    .dataframe thead th {\n",
       "        text-align: right;\n",
       "    }\n",
       "</style>\n",
       "<table border=\"1\" class=\"dataframe\">\n",
       "  <thead>\n",
       "    <tr style=\"text-align: right;\">\n",
       "      <th></th>\n",
       "      <th>Almond Butter</th>\n",
       "      <th>Peanut Butter</th>\n",
       "      <th>Cashew Butter</th>\n",
       "    </tr>\n",
       "  </thead>\n",
       "  <tbody>\n",
       "    <tr>\n",
       "      <th>Mon</th>\n",
       "      <td>12</td>\n",
       "      <td>15</td>\n",
       "      <td>0</td>\n",
       "    </tr>\n",
       "    <tr>\n",
       "      <th>Tues</th>\n",
       "      <td>3</td>\n",
       "      <td>3</td>\n",
       "      <td>7</td>\n",
       "    </tr>\n",
       "    <tr>\n",
       "      <th>Wed</th>\n",
       "      <td>9</td>\n",
       "      <td>19</td>\n",
       "      <td>18</td>\n",
       "    </tr>\n",
       "    <tr>\n",
       "      <th>Thurs</th>\n",
       "      <td>4</td>\n",
       "      <td>6</td>\n",
       "      <td>12</td>\n",
       "    </tr>\n",
       "    <tr>\n",
       "      <th>Fri</th>\n",
       "      <td>1</td>\n",
       "      <td>6</td>\n",
       "      <td>7</td>\n",
       "    </tr>\n",
       "  </tbody>\n",
       "</table>\n",
       "</div>"
      ],
      "text/plain": [
       "       Almond Butter  Peanut Butter  Cashew Butter\n",
       "Mon               12             15              0\n",
       "Tues               3              3              7\n",
       "Wed                9             19             18\n",
       "Thurs              4              6             12\n",
       "Fri                1              6              7"
      ]
     },
     "execution_count": 185,
     "metadata": {},
     "output_type": "execute_result"
    }
   ],
   "source": [
    "weekly_sales"
   ]
  },
  {
   "cell_type": "code",
   "execution_count": 187,
   "id": "36461e20",
   "metadata": {},
   "outputs": [],
   "source": [
    "# Create a price array\n",
    "prices = np.array([10, 8, 12]).reshape((1, 3))"
   ]
  },
  {
   "cell_type": "code",
   "execution_count": 188,
   "id": "b615e381",
   "metadata": {},
   "outputs": [],
   "source": [
    "butter_prices = pd.DataFrame(prices, index = [\"Price\"], columns = [\"Almond Butter\", \"Peanut Butter\", \"Cashew Butter\"])"
   ]
  },
  {
   "cell_type": "code",
   "execution_count": 189,
   "id": "fee16382",
   "metadata": {},
   "outputs": [
    {
     "data": {
      "text/html": [
       "<div>\n",
       "<style scoped>\n",
       "    .dataframe tbody tr th:only-of-type {\n",
       "        vertical-align: middle;\n",
       "    }\n",
       "\n",
       "    .dataframe tbody tr th {\n",
       "        vertical-align: top;\n",
       "    }\n",
       "\n",
       "    .dataframe thead th {\n",
       "        text-align: right;\n",
       "    }\n",
       "</style>\n",
       "<table border=\"1\" class=\"dataframe\">\n",
       "  <thead>\n",
       "    <tr style=\"text-align: right;\">\n",
       "      <th></th>\n",
       "      <th>Almond Butter</th>\n",
       "      <th>Peanut Butter</th>\n",
       "      <th>Cashew Butter</th>\n",
       "    </tr>\n",
       "  </thead>\n",
       "  <tbody>\n",
       "    <tr>\n",
       "      <th>Price</th>\n",
       "      <td>10</td>\n",
       "      <td>8</td>\n",
       "      <td>12</td>\n",
       "    </tr>\n",
       "  </tbody>\n",
       "</table>\n",
       "</div>"
      ],
      "text/plain": [
       "       Almond Butter  Peanut Butter  Cashew Butter\n",
       "Price             10              8             12"
      ]
     },
     "execution_count": 189,
     "metadata": {},
     "output_type": "execute_result"
    }
   ],
   "source": [
    "butter_prices"
   ]
  },
  {
   "cell_type": "code",
   "execution_count": 190,
   "id": "610c6914",
   "metadata": {},
   "outputs": [
    {
     "data": {
      "text/plain": [
       "((5, 3), (1, 3))"
      ]
     },
     "execution_count": 190,
     "metadata": {},
     "output_type": "execute_result"
    }
   ],
   "source": [
    "weekly_sales.shape, butter_prices.shape"
   ]
  },
  {
   "cell_type": "code",
   "execution_count": 191,
   "id": "b6b77f32",
   "metadata": {},
   "outputs": [],
   "source": [
    "total_price = weekly_sales @ butter_prices.T"
   ]
  },
  {
   "cell_type": "code",
   "execution_count": 192,
   "id": "53efca80",
   "metadata": {},
   "outputs": [
    {
     "data": {
      "text/html": [
       "<div>\n",
       "<style scoped>\n",
       "    .dataframe tbody tr th:only-of-type {\n",
       "        vertical-align: middle;\n",
       "    }\n",
       "\n",
       "    .dataframe tbody tr th {\n",
       "        vertical-align: top;\n",
       "    }\n",
       "\n",
       "    .dataframe thead th {\n",
       "        text-align: right;\n",
       "    }\n",
       "</style>\n",
       "<table border=\"1\" class=\"dataframe\">\n",
       "  <thead>\n",
       "    <tr style=\"text-align: right;\">\n",
       "      <th></th>\n",
       "      <th>Price</th>\n",
       "    </tr>\n",
       "  </thead>\n",
       "  <tbody>\n",
       "    <tr>\n",
       "      <th>Mon</th>\n",
       "      <td>240</td>\n",
       "    </tr>\n",
       "    <tr>\n",
       "      <th>Tues</th>\n",
       "      <td>138</td>\n",
       "    </tr>\n",
       "    <tr>\n",
       "      <th>Wed</th>\n",
       "      <td>458</td>\n",
       "    </tr>\n",
       "    <tr>\n",
       "      <th>Thurs</th>\n",
       "      <td>232</td>\n",
       "    </tr>\n",
       "    <tr>\n",
       "      <th>Fri</th>\n",
       "      <td>142</td>\n",
       "    </tr>\n",
       "  </tbody>\n",
       "</table>\n",
       "</div>"
      ],
      "text/plain": [
       "       Price\n",
       "Mon      240\n",
       "Tues     138\n",
       "Wed      458\n",
       "Thurs    232\n",
       "Fri      142"
      ]
     },
     "execution_count": 192,
     "metadata": {},
     "output_type": "execute_result"
    }
   ],
   "source": [
    "total_price"
   ]
  },
  {
   "cell_type": "code",
   "execution_count": 193,
   "id": "1bc91a04",
   "metadata": {},
   "outputs": [
    {
     "data": {
      "text/html": [
       "<div>\n",
       "<style scoped>\n",
       "    .dataframe tbody tr th:only-of-type {\n",
       "        vertical-align: middle;\n",
       "    }\n",
       "\n",
       "    .dataframe tbody tr th {\n",
       "        vertical-align: top;\n",
       "    }\n",
       "\n",
       "    .dataframe thead th {\n",
       "        text-align: right;\n",
       "    }\n",
       "</style>\n",
       "<table border=\"1\" class=\"dataframe\">\n",
       "  <thead>\n",
       "    <tr style=\"text-align: right;\">\n",
       "      <th></th>\n",
       "      <th>Almond Butter</th>\n",
       "      <th>Peanut Butter</th>\n",
       "      <th>Cashew Butter</th>\n",
       "      <th>Total Price</th>\n",
       "    </tr>\n",
       "  </thead>\n",
       "  <tbody>\n",
       "    <tr>\n",
       "      <th>Mon</th>\n",
       "      <td>12</td>\n",
       "      <td>15</td>\n",
       "      <td>0</td>\n",
       "      <td>240</td>\n",
       "    </tr>\n",
       "    <tr>\n",
       "      <th>Tues</th>\n",
       "      <td>3</td>\n",
       "      <td>3</td>\n",
       "      <td>7</td>\n",
       "      <td>138</td>\n",
       "    </tr>\n",
       "    <tr>\n",
       "      <th>Wed</th>\n",
       "      <td>9</td>\n",
       "      <td>19</td>\n",
       "      <td>18</td>\n",
       "      <td>458</td>\n",
       "    </tr>\n",
       "    <tr>\n",
       "      <th>Thurs</th>\n",
       "      <td>4</td>\n",
       "      <td>6</td>\n",
       "      <td>12</td>\n",
       "      <td>232</td>\n",
       "    </tr>\n",
       "    <tr>\n",
       "      <th>Fri</th>\n",
       "      <td>1</td>\n",
       "      <td>6</td>\n",
       "      <td>7</td>\n",
       "      <td>142</td>\n",
       "    </tr>\n",
       "  </tbody>\n",
       "</table>\n",
       "</div>"
      ],
      "text/plain": [
       "       Almond Butter  Peanut Butter  Cashew Butter  Total Price\n",
       "Mon               12             15              0          240\n",
       "Tues               3              3              7          138\n",
       "Wed                9             19             18          458\n",
       "Thurs              4              6             12          232\n",
       "Fri                1              6              7          142"
      ]
     },
     "execution_count": 193,
     "metadata": {},
     "output_type": "execute_result"
    }
   ],
   "source": [
    "weekly_sales['Total Price'] = total_price\n",
    "weekly_sales"
   ]
  }
 ],
 "metadata": {
  "kernelspec": {
   "display_name": "Python 3 (ipykernel)",
   "language": "python",
   "name": "python3"
  },
  "language_info": {
   "codemirror_mode": {
    "name": "ipython",
    "version": 3
   },
   "file_extension": ".py",
   "mimetype": "text/x-python",
   "name": "python",
   "nbconvert_exporter": "python",
   "pygments_lexer": "ipython3",
   "version": "3.10.9"
  }
 },
 "nbformat": 4,
 "nbformat_minor": 5
}
